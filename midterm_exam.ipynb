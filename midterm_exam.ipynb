{
 "cells": [
  {
   "cell_type": "code",
   "execution_count": 1,
   "metadata": {},
   "outputs": [
    {
     "name": "stdout",
     "output_type": "stream",
     "text": [
      "Requirement already satisfied: pip in c:\\users\\hp\\desktop\\vscode\\bigquery_midterm_exam\\venv\\lib\\site-packages (24.3.1)\n",
      "Note: you may need to restart the kernel to use updated packages.\n",
      "Requirement already satisfied: google in c:\\users\\hp\\desktop\\vscode\\bigquery_midterm_exam\\venv\\lib\\site-packages (3.0.0)\n",
      "Requirement already satisfied: beautifulsoup4 in c:\\users\\hp\\desktop\\vscode\\bigquery_midterm_exam\\venv\\lib\\site-packages (from google) (4.12.3)\n",
      "Requirement already satisfied: soupsieve>1.2 in c:\\users\\hp\\desktop\\vscode\\bigquery_midterm_exam\\venv\\lib\\site-packages (from beautifulsoup4->google) (2.6)\n",
      "Note: you may need to restart the kernel to use updated packages.\n",
      "Requirement already satisfied: google-cloud-bigquery in c:\\users\\hp\\desktop\\vscode\\bigquery_midterm_exam\\venv\\lib\\site-packages (3.27.0)\n",
      "Requirement already satisfied: google-api-core<3.0.0dev,>=2.11.1 in c:\\users\\hp\\desktop\\vscode\\bigquery_midterm_exam\\venv\\lib\\site-packages (from google-api-core[grpc]<3.0.0dev,>=2.11.1->google-cloud-bigquery) (2.23.0)\n",
      "Requirement already satisfied: google-auth<3.0.0dev,>=2.14.1 in c:\\users\\hp\\desktop\\vscode\\bigquery_midterm_exam\\venv\\lib\\site-packages (from google-cloud-bigquery) (2.36.0)\n",
      "Requirement already satisfied: google-cloud-core<3.0.0dev,>=2.4.1 in c:\\users\\hp\\desktop\\vscode\\bigquery_midterm_exam\\venv\\lib\\site-packages (from google-cloud-bigquery) (2.4.1)\n",
      "Requirement already satisfied: google-resumable-media<3.0dev,>=2.0.0 in c:\\users\\hp\\desktop\\vscode\\bigquery_midterm_exam\\venv\\lib\\site-packages (from google-cloud-bigquery) (2.7.2)\n",
      "Requirement already satisfied: packaging>=20.0.0 in c:\\users\\hp\\desktop\\vscode\\bigquery_midterm_exam\\venv\\lib\\site-packages (from google-cloud-bigquery) (24.2)\n",
      "Requirement already satisfied: python-dateutil<3.0dev,>=2.7.3 in c:\\users\\hp\\desktop\\vscode\\bigquery_midterm_exam\\venv\\lib\\site-packages (from google-cloud-bigquery) (2.9.0.post0)\n",
      "Requirement already satisfied: requests<3.0.0dev,>=2.21.0 in c:\\users\\hp\\desktop\\vscode\\bigquery_midterm_exam\\venv\\lib\\site-packages (from google-cloud-bigquery) (2.32.3)\n",
      "Requirement already satisfied: googleapis-common-protos<2.0.dev0,>=1.56.2 in c:\\users\\hp\\desktop\\vscode\\bigquery_midterm_exam\\venv\\lib\\site-packages (from google-api-core<3.0.0dev,>=2.11.1->google-api-core[grpc]<3.0.0dev,>=2.11.1->google-cloud-bigquery) (1.66.0)\n",
      "Requirement already satisfied: protobuf!=3.20.0,!=3.20.1,!=4.21.0,!=4.21.1,!=4.21.2,!=4.21.3,!=4.21.4,!=4.21.5,<6.0.0.dev0,>=3.19.5 in c:\\users\\hp\\desktop\\vscode\\bigquery_midterm_exam\\venv\\lib\\site-packages (from google-api-core<3.0.0dev,>=2.11.1->google-api-core[grpc]<3.0.0dev,>=2.11.1->google-cloud-bigquery) (5.29.0)\n",
      "Requirement already satisfied: proto-plus<2.0.0dev,>=1.22.3 in c:\\users\\hp\\desktop\\vscode\\bigquery_midterm_exam\\venv\\lib\\site-packages (from google-api-core<3.0.0dev,>=2.11.1->google-api-core[grpc]<3.0.0dev,>=2.11.1->google-cloud-bigquery) (1.25.0)\n",
      "Requirement already satisfied: grpcio<2.0dev,>=1.33.2 in c:\\users\\hp\\desktop\\vscode\\bigquery_midterm_exam\\venv\\lib\\site-packages (from google-api-core[grpc]<3.0.0dev,>=2.11.1->google-cloud-bigquery) (1.68.1)\n",
      "Requirement already satisfied: grpcio-status<2.0.dev0,>=1.33.2 in c:\\users\\hp\\desktop\\vscode\\bigquery_midterm_exam\\venv\\lib\\site-packages (from google-api-core[grpc]<3.0.0dev,>=2.11.1->google-cloud-bigquery) (1.68.1)\n",
      "Requirement already satisfied: cachetools<6.0,>=2.0.0 in c:\\users\\hp\\desktop\\vscode\\bigquery_midterm_exam\\venv\\lib\\site-packages (from google-auth<3.0.0dev,>=2.14.1->google-cloud-bigquery) (5.5.0)\n",
      "Requirement already satisfied: pyasn1-modules>=0.2.1 in c:\\users\\hp\\desktop\\vscode\\bigquery_midterm_exam\\venv\\lib\\site-packages (from google-auth<3.0.0dev,>=2.14.1->google-cloud-bigquery) (0.4.1)\n",
      "Requirement already satisfied: rsa<5,>=3.1.4 in c:\\users\\hp\\desktop\\vscode\\bigquery_midterm_exam\\venv\\lib\\site-packages (from google-auth<3.0.0dev,>=2.14.1->google-cloud-bigquery) (4.9)\n",
      "Requirement already satisfied: google-crc32c<2.0dev,>=1.0 in c:\\users\\hp\\desktop\\vscode\\bigquery_midterm_exam\\venv\\lib\\site-packages (from google-resumable-media<3.0dev,>=2.0.0->google-cloud-bigquery) (1.6.0)\n",
      "Requirement already satisfied: six>=1.5 in c:\\users\\hp\\desktop\\vscode\\bigquery_midterm_exam\\venv\\lib\\site-packages (from python-dateutil<3.0dev,>=2.7.3->google-cloud-bigquery) (1.16.0)\n",
      "Requirement already satisfied: charset-normalizer<4,>=2 in c:\\users\\hp\\desktop\\vscode\\bigquery_midterm_exam\\venv\\lib\\site-packages (from requests<3.0.0dev,>=2.21.0->google-cloud-bigquery) (3.4.0)\n",
      "Requirement already satisfied: idna<4,>=2.5 in c:\\users\\hp\\desktop\\vscode\\bigquery_midterm_exam\\venv\\lib\\site-packages (from requests<3.0.0dev,>=2.21.0->google-cloud-bigquery) (3.10)\n",
      "Requirement already satisfied: urllib3<3,>=1.21.1 in c:\\users\\hp\\desktop\\vscode\\bigquery_midterm_exam\\venv\\lib\\site-packages (from requests<3.0.0dev,>=2.21.0->google-cloud-bigquery) (2.2.3)\n",
      "Requirement already satisfied: certifi>=2017.4.17 in c:\\users\\hp\\desktop\\vscode\\bigquery_midterm_exam\\venv\\lib\\site-packages (from requests<3.0.0dev,>=2.21.0->google-cloud-bigquery) (2024.8.30)\n",
      "Requirement already satisfied: pyasn1<0.7.0,>=0.4.6 in c:\\users\\hp\\desktop\\vscode\\bigquery_midterm_exam\\venv\\lib\\site-packages (from pyasn1-modules>=0.2.1->google-auth<3.0.0dev,>=2.14.1->google-cloud-bigquery) (0.6.1)\n",
      "Note: you may need to restart the kernel to use updated packages.\n",
      "Requirement already satisfied: google-cloud-storage in c:\\users\\hp\\desktop\\vscode\\bigquery_midterm_exam\\venv\\lib\\site-packages (2.19.0)\n",
      "Requirement already satisfied: google-auth<3.0dev,>=2.26.1 in c:\\users\\hp\\desktop\\vscode\\bigquery_midterm_exam\\venv\\lib\\site-packages (from google-cloud-storage) (2.36.0)\n",
      "Requirement already satisfied: google-api-core<3.0.0dev,>=2.15.0 in c:\\users\\hp\\desktop\\vscode\\bigquery_midterm_exam\\venv\\lib\\site-packages (from google-cloud-storage) (2.23.0)\n",
      "Requirement already satisfied: google-cloud-core<3.0dev,>=2.3.0 in c:\\users\\hp\\desktop\\vscode\\bigquery_midterm_exam\\venv\\lib\\site-packages (from google-cloud-storage) (2.4.1)\n",
      "Requirement already satisfied: google-resumable-media>=2.7.2 in c:\\users\\hp\\desktop\\vscode\\bigquery_midterm_exam\\venv\\lib\\site-packages (from google-cloud-storage) (2.7.2)\n",
      "Requirement already satisfied: requests<3.0.0dev,>=2.18.0 in c:\\users\\hp\\desktop\\vscode\\bigquery_midterm_exam\\venv\\lib\\site-packages (from google-cloud-storage) (2.32.3)\n",
      "Requirement already satisfied: google-crc32c<2.0dev,>=1.0 in c:\\users\\hp\\desktop\\vscode\\bigquery_midterm_exam\\venv\\lib\\site-packages (from google-cloud-storage) (1.6.0)\n",
      "Requirement already satisfied: googleapis-common-protos<2.0.dev0,>=1.56.2 in c:\\users\\hp\\desktop\\vscode\\bigquery_midterm_exam\\venv\\lib\\site-packages (from google-api-core<3.0.0dev,>=2.15.0->google-cloud-storage) (1.66.0)\n",
      "Requirement already satisfied: protobuf!=3.20.0,!=3.20.1,!=4.21.0,!=4.21.1,!=4.21.2,!=4.21.3,!=4.21.4,!=4.21.5,<6.0.0.dev0,>=3.19.5 in c:\\users\\hp\\desktop\\vscode\\bigquery_midterm_exam\\venv\\lib\\site-packages (from google-api-core<3.0.0dev,>=2.15.0->google-cloud-storage) (5.29.0)\n",
      "Requirement already satisfied: proto-plus<2.0.0dev,>=1.22.3 in c:\\users\\hp\\desktop\\vscode\\bigquery_midterm_exam\\venv\\lib\\site-packages (from google-api-core<3.0.0dev,>=2.15.0->google-cloud-storage) (1.25.0)\n",
      "Requirement already satisfied: cachetools<6.0,>=2.0.0 in c:\\users\\hp\\desktop\\vscode\\bigquery_midterm_exam\\venv\\lib\\site-packages (from google-auth<3.0dev,>=2.26.1->google-cloud-storage) (5.5.0)\n",
      "Requirement already satisfied: pyasn1-modules>=0.2.1 in c:\\users\\hp\\desktop\\vscode\\bigquery_midterm_exam\\venv\\lib\\site-packages (from google-auth<3.0dev,>=2.26.1->google-cloud-storage) (0.4.1)\n",
      "Requirement already satisfied: rsa<5,>=3.1.4 in c:\\users\\hp\\desktop\\vscode\\bigquery_midterm_exam\\venv\\lib\\site-packages (from google-auth<3.0dev,>=2.26.1->google-cloud-storage) (4.9)\n",
      "Requirement already satisfied: charset-normalizer<4,>=2 in c:\\users\\hp\\desktop\\vscode\\bigquery_midterm_exam\\venv\\lib\\site-packages (from requests<3.0.0dev,>=2.18.0->google-cloud-storage) (3.4.0)\n",
      "Requirement already satisfied: idna<4,>=2.5 in c:\\users\\hp\\desktop\\vscode\\bigquery_midterm_exam\\venv\\lib\\site-packages (from requests<3.0.0dev,>=2.18.0->google-cloud-storage) (3.10)\n",
      "Requirement already satisfied: urllib3<3,>=1.21.1 in c:\\users\\hp\\desktop\\vscode\\bigquery_midterm_exam\\venv\\lib\\site-packages (from requests<3.0.0dev,>=2.18.0->google-cloud-storage) (2.2.3)\n",
      "Requirement already satisfied: certifi>=2017.4.17 in c:\\users\\hp\\desktop\\vscode\\bigquery_midterm_exam\\venv\\lib\\site-packages (from requests<3.0.0dev,>=2.18.0->google-cloud-storage) (2024.8.30)\n",
      "Requirement already satisfied: pyasn1<0.7.0,>=0.4.6 in c:\\users\\hp\\desktop\\vscode\\bigquery_midterm_exam\\venv\\lib\\site-packages (from pyasn1-modules>=0.2.1->google-auth<3.0dev,>=2.26.1->google-cloud-storage) (0.6.1)\n",
      "Note: you may need to restart the kernel to use updated packages.\n",
      "Requirement already satisfied: google-cloud-bigquery-storage in c:\\users\\hp\\desktop\\vscode\\bigquery_midterm_exam\\venv\\lib\\site-packages (2.27.0)\n",
      "Requirement already satisfied: google-api-core!=2.0.*,!=2.1.*,!=2.10.*,!=2.2.*,!=2.3.*,!=2.4.*,!=2.5.*,!=2.6.*,!=2.7.*,!=2.8.*,!=2.9.*,<3.0.0dev,>=1.34.0 in c:\\users\\hp\\desktop\\vscode\\bigquery_midterm_exam\\venv\\lib\\site-packages (from google-api-core[grpc]!=2.0.*,!=2.1.*,!=2.10.*,!=2.2.*,!=2.3.*,!=2.4.*,!=2.5.*,!=2.6.*,!=2.7.*,!=2.8.*,!=2.9.*,<3.0.0dev,>=1.34.0->google-cloud-bigquery-storage) (2.23.0)\n",
      "Requirement already satisfied: google-auth<3.0.0dev,>=2.14.1 in c:\\users\\hp\\desktop\\vscode\\bigquery_midterm_exam\\venv\\lib\\site-packages (from google-cloud-bigquery-storage) (2.36.0)\n",
      "Requirement already satisfied: proto-plus<2.0.0dev,>=1.22.0 in c:\\users\\hp\\desktop\\vscode\\bigquery_midterm_exam\\venv\\lib\\site-packages (from google-cloud-bigquery-storage) (1.25.0)\n",
      "Requirement already satisfied: protobuf!=3.20.0,!=3.20.1,!=4.21.0,!=4.21.1,!=4.21.2,!=4.21.3,!=4.21.4,!=4.21.5,<6.0.0dev,>=3.20.2 in c:\\users\\hp\\desktop\\vscode\\bigquery_midterm_exam\\venv\\lib\\site-packages (from google-cloud-bigquery-storage) (5.29.0)\n",
      "Requirement already satisfied: googleapis-common-protos<2.0.dev0,>=1.56.2 in c:\\users\\hp\\desktop\\vscode\\bigquery_midterm_exam\\venv\\lib\\site-packages (from google-api-core!=2.0.*,!=2.1.*,!=2.10.*,!=2.2.*,!=2.3.*,!=2.4.*,!=2.5.*,!=2.6.*,!=2.7.*,!=2.8.*,!=2.9.*,<3.0.0dev,>=1.34.0->google-api-core[grpc]!=2.0.*,!=2.1.*,!=2.10.*,!=2.2.*,!=2.3.*,!=2.4.*,!=2.5.*,!=2.6.*,!=2.7.*,!=2.8.*,!=2.9.*,<3.0.0dev,>=1.34.0->google-cloud-bigquery-storage) (1.66.0)\n",
      "Requirement already satisfied: requests<3.0.0.dev0,>=2.18.0 in c:\\users\\hp\\desktop\\vscode\\bigquery_midterm_exam\\venv\\lib\\site-packages (from google-api-core!=2.0.*,!=2.1.*,!=2.10.*,!=2.2.*,!=2.3.*,!=2.4.*,!=2.5.*,!=2.6.*,!=2.7.*,!=2.8.*,!=2.9.*,<3.0.0dev,>=1.34.0->google-api-core[grpc]!=2.0.*,!=2.1.*,!=2.10.*,!=2.2.*,!=2.3.*,!=2.4.*,!=2.5.*,!=2.6.*,!=2.7.*,!=2.8.*,!=2.9.*,<3.0.0dev,>=1.34.0->google-cloud-bigquery-storage) (2.32.3)\n",
      "Requirement already satisfied: grpcio<2.0dev,>=1.33.2 in c:\\users\\hp\\desktop\\vscode\\bigquery_midterm_exam\\venv\\lib\\site-packages (from google-api-core[grpc]!=2.0.*,!=2.1.*,!=2.10.*,!=2.2.*,!=2.3.*,!=2.4.*,!=2.5.*,!=2.6.*,!=2.7.*,!=2.8.*,!=2.9.*,<3.0.0dev,>=1.34.0->google-cloud-bigquery-storage) (1.68.1)\n",
      "Requirement already satisfied: grpcio-status<2.0.dev0,>=1.33.2 in c:\\users\\hp\\desktop\\vscode\\bigquery_midterm_exam\\venv\\lib\\site-packages (from google-api-core[grpc]!=2.0.*,!=2.1.*,!=2.10.*,!=2.2.*,!=2.3.*,!=2.4.*,!=2.5.*,!=2.6.*,!=2.7.*,!=2.8.*,!=2.9.*,<3.0.0dev,>=1.34.0->google-cloud-bigquery-storage) (1.68.1)\n",
      "Requirement already satisfied: cachetools<6.0,>=2.0.0 in c:\\users\\hp\\desktop\\vscode\\bigquery_midterm_exam\\venv\\lib\\site-packages (from google-auth<3.0.0dev,>=2.14.1->google-cloud-bigquery-storage) (5.5.0)\n",
      "Requirement already satisfied: pyasn1-modules>=0.2.1 in c:\\users\\hp\\desktop\\vscode\\bigquery_midterm_exam\\venv\\lib\\site-packages (from google-auth<3.0.0dev,>=2.14.1->google-cloud-bigquery-storage) (0.4.1)\n",
      "Requirement already satisfied: rsa<5,>=3.1.4 in c:\\users\\hp\\desktop\\vscode\\bigquery_midterm_exam\\venv\\lib\\site-packages (from google-auth<3.0.0dev,>=2.14.1->google-cloud-bigquery-storage) (4.9)\n",
      "Requirement already satisfied: pyasn1<0.7.0,>=0.4.6 in c:\\users\\hp\\desktop\\vscode\\bigquery_midterm_exam\\venv\\lib\\site-packages (from pyasn1-modules>=0.2.1->google-auth<3.0.0dev,>=2.14.1->google-cloud-bigquery-storage) (0.6.1)\n",
      "Requirement already satisfied: charset-normalizer<4,>=2 in c:\\users\\hp\\desktop\\vscode\\bigquery_midterm_exam\\venv\\lib\\site-packages (from requests<3.0.0.dev0,>=2.18.0->google-api-core!=2.0.*,!=2.1.*,!=2.10.*,!=2.2.*,!=2.3.*,!=2.4.*,!=2.5.*,!=2.6.*,!=2.7.*,!=2.8.*,!=2.9.*,<3.0.0dev,>=1.34.0->google-api-core[grpc]!=2.0.*,!=2.1.*,!=2.10.*,!=2.2.*,!=2.3.*,!=2.4.*,!=2.5.*,!=2.6.*,!=2.7.*,!=2.8.*,!=2.9.*,<3.0.0dev,>=1.34.0->google-cloud-bigquery-storage) (3.4.0)\n",
      "Requirement already satisfied: idna<4,>=2.5 in c:\\users\\hp\\desktop\\vscode\\bigquery_midterm_exam\\venv\\lib\\site-packages (from requests<3.0.0.dev0,>=2.18.0->google-api-core!=2.0.*,!=2.1.*,!=2.10.*,!=2.2.*,!=2.3.*,!=2.4.*,!=2.5.*,!=2.6.*,!=2.7.*,!=2.8.*,!=2.9.*,<3.0.0dev,>=1.34.0->google-api-core[grpc]!=2.0.*,!=2.1.*,!=2.10.*,!=2.2.*,!=2.3.*,!=2.4.*,!=2.5.*,!=2.6.*,!=2.7.*,!=2.8.*,!=2.9.*,<3.0.0dev,>=1.34.0->google-cloud-bigquery-storage) (3.10)\n",
      "Requirement already satisfied: urllib3<3,>=1.21.1 in c:\\users\\hp\\desktop\\vscode\\bigquery_midterm_exam\\venv\\lib\\site-packages (from requests<3.0.0.dev0,>=2.18.0->google-api-core!=2.0.*,!=2.1.*,!=2.10.*,!=2.2.*,!=2.3.*,!=2.4.*,!=2.5.*,!=2.6.*,!=2.7.*,!=2.8.*,!=2.9.*,<3.0.0dev,>=1.34.0->google-api-core[grpc]!=2.0.*,!=2.1.*,!=2.10.*,!=2.2.*,!=2.3.*,!=2.4.*,!=2.5.*,!=2.6.*,!=2.7.*,!=2.8.*,!=2.9.*,<3.0.0dev,>=1.34.0->google-cloud-bigquery-storage) (2.2.3)\n",
      "Requirement already satisfied: certifi>=2017.4.17 in c:\\users\\hp\\desktop\\vscode\\bigquery_midterm_exam\\venv\\lib\\site-packages (from requests<3.0.0.dev0,>=2.18.0->google-api-core!=2.0.*,!=2.1.*,!=2.10.*,!=2.2.*,!=2.3.*,!=2.4.*,!=2.5.*,!=2.6.*,!=2.7.*,!=2.8.*,!=2.9.*,<3.0.0dev,>=1.34.0->google-api-core[grpc]!=2.0.*,!=2.1.*,!=2.10.*,!=2.2.*,!=2.3.*,!=2.4.*,!=2.5.*,!=2.6.*,!=2.7.*,!=2.8.*,!=2.9.*,<3.0.0dev,>=1.34.0->google-cloud-bigquery-storage) (2024.8.30)\n",
      "Note: you may need to restart the kernel to use updated packages.\n",
      "Requirement already satisfied: pandas in c:\\users\\hp\\desktop\\vscode\\bigquery_midterm_exam\\venv\\lib\\site-packages (2.2.3)\n",
      "Requirement already satisfied: numpy>=1.23.2 in c:\\users\\hp\\desktop\\vscode\\bigquery_midterm_exam\\venv\\lib\\site-packages (from pandas) (2.1.3)\n",
      "Requirement already satisfied: python-dateutil>=2.8.2 in c:\\users\\hp\\desktop\\vscode\\bigquery_midterm_exam\\venv\\lib\\site-packages (from pandas) (2.9.0.post0)\n",
      "Requirement already satisfied: pytz>=2020.1 in c:\\users\\hp\\desktop\\vscode\\bigquery_midterm_exam\\venv\\lib\\site-packages (from pandas) (2024.2)\n",
      "Requirement already satisfied: tzdata>=2022.7 in c:\\users\\hp\\desktop\\vscode\\bigquery_midterm_exam\\venv\\lib\\site-packages (from pandas) (2024.2)\n",
      "Requirement already satisfied: six>=1.5 in c:\\users\\hp\\desktop\\vscode\\bigquery_midterm_exam\\venv\\lib\\site-packages (from python-dateutil>=2.8.2->pandas) (1.16.0)\n",
      "Note: you may need to restart the kernel to use updated packages.\n",
      "Requirement already satisfied: db-dtypes in c:\\users\\hp\\desktop\\vscode\\bigquery_midterm_exam\\venv\\lib\\site-packages (1.3.1)\n",
      "Requirement already satisfied: packaging>=17.0 in c:\\users\\hp\\desktop\\vscode\\bigquery_midterm_exam\\venv\\lib\\site-packages (from db-dtypes) (24.2)\n",
      "Requirement already satisfied: pandas>=0.24.2 in c:\\users\\hp\\desktop\\vscode\\bigquery_midterm_exam\\venv\\lib\\site-packages (from db-dtypes) (2.2.3)\n",
      "Requirement already satisfied: pyarrow>=3.0.0 in c:\\users\\hp\\desktop\\vscode\\bigquery_midterm_exam\\venv\\lib\\site-packages (from db-dtypes) (18.1.0)\n",
      "Requirement already satisfied: numpy>=1.16.6 in c:\\users\\hp\\desktop\\vscode\\bigquery_midterm_exam\\venv\\lib\\site-packages (from db-dtypes) (2.1.3)\n",
      "Requirement already satisfied: python-dateutil>=2.8.2 in c:\\users\\hp\\desktop\\vscode\\bigquery_midterm_exam\\venv\\lib\\site-packages (from pandas>=0.24.2->db-dtypes) (2.9.0.post0)\n",
      "Requirement already satisfied: pytz>=2020.1 in c:\\users\\hp\\desktop\\vscode\\bigquery_midterm_exam\\venv\\lib\\site-packages (from pandas>=0.24.2->db-dtypes) (2024.2)\n",
      "Requirement already satisfied: tzdata>=2022.7 in c:\\users\\hp\\desktop\\vscode\\bigquery_midterm_exam\\venv\\lib\\site-packages (from pandas>=0.24.2->db-dtypes) (2024.2)\n",
      "Requirement already satisfied: six>=1.5 in c:\\users\\hp\\desktop\\vscode\\bigquery_midterm_exam\\venv\\lib\\site-packages (from python-dateutil>=2.8.2->pandas>=0.24.2->db-dtypes) (1.16.0)\n",
      "Note: you may need to restart the kernel to use updated packages.\n"
     ]
    }
   ],
   "source": [
    "%pip install --upgrade pip\n",
    "%pip install google\n",
    "%pip install --upgrade google-cloud-bigquery\n",
    "%pip install --upgrade google-cloud-storage\n",
    "%pip install --upgrade google-cloud-bigquery-storage\n",
    "%pip install pandas\n",
    "%pip install db-dtypes"
   ]
  },
  {
   "cell_type": "code",
   "execution_count": 2,
   "metadata": {},
   "outputs": [],
   "source": [
    "from google.cloud import bigquery\n",
    "from google.cloud import storage\n",
    "from google.oauth2 import service_account\n",
    "import pandas as pd"
   ]
  },
  {
   "cell_type": "markdown",
   "metadata": {},
   "source": [
    "# Clients\n"
   ]
  },
  {
   "cell_type": "code",
   "execution_count": 3,
   "metadata": {},
   "outputs": [],
   "source": [
    "project_id = 'bigquery-midterm-exam'\n",
    "dataset_id = 'datamodel_midterm_dataset'"
   ]
  },
  {
   "cell_type": "code",
   "execution_count": 4,
   "metadata": {},
   "outputs": [],
   "source": [
    "# Initialize BigQuery client\n",
    "credentials = service_account.Credentials.from_service_account_file(\n",
    "    'bigquery-midterm-exam-5265cdf05f9b.json')\n",
    "\n",
    "bigquery_client = bigquery.Client(project=project_id, credentials=credentials)\n",
    "storage_client = storage.Client(project=project_id, credentials=credentials)"
   ]
  },
  {
   "cell_type": "code",
   "execution_count": 43,
   "metadata": {},
   "outputs": [],
   "source": [
    "bucket_name = \"datamodel_midterm\""
   ]
  },
  {
   "cell_type": "code",
   "execution_count": 44,
   "metadata": {},
   "outputs": [],
   "source": [
    "customer_logs_path = 'customer_logs.csv'\n",
    "ad_performance_path = 'ad_performance.csv'"
   ]
  },
  {
   "cell_type": "code",
   "execution_count": 46,
   "metadata": {},
   "outputs": [
    {
     "name": "stdout",
     "output_type": "stream",
     "text": [
      "上傳完成\n",
      "上傳完成\n"
     ]
    }
   ],
   "source": [
    "# 上傳 customer_logs.csv 至 Google Cloud Storage\n",
    "csv_file_path = 'customer_logs.csv'\n",
    "bucket = storage_client.get_bucket(bucket_name)\n",
    "blob = bucket.blob('customer_logs.csv')\n",
    "blob.upload_from_filename(csv_file_path)\n",
    "\n",
    "# 將 CSV 資料作為外部表格載入 BigQuery\n",
    "table_id = 'customer_logs'\n",
    "job_config = bigquery.LoadJobConfig(\n",
    "    source_format=bigquery.SourceFormat.CSV,\n",
    "    skip_leading_rows=1,\n",
    "    autodetect=True\n",
    ")\n",
    "uri = f'gs://{bucket_name}/customer_logs.csv'\n",
    "\n",
    "load_job = bigquery_client.load_table_from_uri(\n",
    "    uri, f\"{dataset_id}.{table_id}\", job_config=job_config\n",
    ")\n",
    "load_job.result()  # 等待作業完成\n",
    "print(\"上傳完成\")\n",
    "\n",
    "# 上傳 customer_logs.csv 至 Google Cloud Storage\n",
    "csv_file_path = 'ad_performance.csv'\n",
    "bucket = storage_client.get_bucket(bucket_name)\n",
    "blob = bucket.blob('ad_performance_logs.csv')\n",
    "blob.upload_from_filename(csv_file_path)\n",
    "\n",
    "# 將 CSV 資料作為外部表格載入 BigQuery\n",
    "table_id = 'ad_performance_logs'\n",
    "job_config = bigquery.LoadJobConfig(\n",
    "    source_format=bigquery.SourceFormat.CSV,\n",
    "    skip_leading_rows=1,\n",
    "    autodetect=True\n",
    ")\n",
    "uri = f'gs://{bucket_name}/ad_performance_logs.csv'\n",
    "\n",
    "load_job = bigquery_client.load_table_from_uri(\n",
    "    uri, f\"{dataset_id}.{table_id}\", job_config=job_config\n",
    ")\n",
    "load_job.result()  # 等待作業完成\n",
    "print(\"上傳完成\")"
   ]
  },
  {
   "cell_type": "markdown",
   "metadata": {},
   "source": [
    "# Task 1\n"
   ]
  },
  {
   "cell_type": "markdown",
   "metadata": {},
   "source": [
    "## 1.1 資料擷取與上傳\n"
   ]
  },
  {
   "cell_type": "code",
   "execution_count": 5,
   "metadata": {},
   "outputs": [],
   "source": [
    "dataset_id = 'datamodel_midterm_dataset'\n",
    "bucket_name = 'datamodel_midterm'"
   ]
  },
  {
   "cell_type": "code",
   "execution_count": 14,
   "metadata": {},
   "outputs": [],
   "source": [
    "bucket = storage_client.bucket(bucket_name)"
   ]
  },
  {
   "cell_type": "code",
   "execution_count": 16,
   "metadata": {},
   "outputs": [],
   "source": [
    "# Upload customer_logs.csv\n",
    "customer_logs_blob = bucket.blob('customer_logs.csv')\n",
    "customer_logs_blob.upload_from_filename('customer_logs.csv')\n",
    "\n",
    "# Upload ad_performance_logs.csv\n",
    "ad_performance_logs_blob = bucket.blob('ad_performance_logs.csv')\n",
    "ad_performance_logs_blob.upload_from_filename('ad_performance.csv')"
   ]
  },
  {
   "cell_type": "markdown",
   "metadata": {},
   "source": [
    "## 1.2 Transform Data\n"
   ]
  },
  {
   "cell_type": "code",
   "execution_count": 6,
   "metadata": {},
   "outputs": [
    {
     "name": "stdout",
     "output_type": "stream",
     "text": [
      "Score normalization completed.\n"
     ]
    }
   ],
   "source": [
    "# Normalize 'score' in Google Trends\n",
    "normalize_query = f\"\"\"\n",
    "CREATE OR REPLACE TABLE `{project_id}.{dataset_id}.normalized_international_top_rising_terms` AS\n",
    "SELECT\n",
    "  country_code,\n",
    "  country_name,\n",
    "  term,\n",
    "  (score - MIN(score) OVER()) / (MAX(score) OVER() - MIN(score) OVER()) AS score\n",
    "FROM\n",
    "  `bigquery-public-data.google_trends.international_top_rising_terms` \n",
    "WHERE score IS NOT null\n",
    "\"\"\"\n",
    "job = bigquery_client.query(normalize_query)\n",
    "job.result()\n",
    "print(\"Score normalization completed.\")\n"
   ]
  },
  {
   "cell_type": "markdown",
   "metadata": {},
   "source": [
    "## 1.3 Integrate Datasets\n"
   ]
  },
  {
   "cell_type": "code",
   "execution_count": 7,
   "metadata": {},
   "outputs": [
    {
     "name": "stdout",
     "output_type": "stream",
     "text": [
      "Score normalization completed.\n"
     ]
    }
   ],
   "source": [
    "# Normalize 'score' in Google Trends\n",
    "integrated_query = f\"\"\"\n",
    "CREATE OR REPLACE TABLE `{project_id}.{dataset_id}.combined_geotargets_criteria` AS\n",
    "SELECT\n",
    "    g.criteria_id,\n",
    "    g.en_name AS geographic_target_name,\n",
    "    g.country_code,\n",
    "    m.target_city\n",
    "FROM\n",
    "    `bigquery-public-data.google_ads.geotargets` AS g\n",
    "JOIN\n",
    "    `bigquery-public-data.google_ads_geo_mapping_us.ads_geo_criteria_mapping` AS m\n",
    "ON\n",
    "    CAST(g.criteria_id AS INT64) = m.ads_criteria_id;\n",
    "\"\"\"\n",
    "job = bigquery_client.query(integrated_query)\n",
    "job.result()\n",
    "print(\"Score normalization completed.\")\n"
   ]
  },
  {
   "cell_type": "code",
   "execution_count": 8,
   "metadata": {},
   "outputs": [
    {
     "name": "stdout",
     "output_type": "stream",
     "text": [
      "integrated_query completed.\n"
     ]
    }
   ],
   "source": [
    "# Normalize 'score' in Google Trends\n",
    "integrated_query = f\"\"\"\n",
    "CREATE OR REPLACE TABLE `{project_id}.{dataset_id}.integrated_data` AS\n",
    "SELECT trends.country_code, trends.country_name, trends.term, trends.score,\n",
    "       ads.ad_id, ads.impressions, ads.clicks, ads.conversions,\n",
    "       logs.user_action, analytics.totals.pageviews, analytics.totals.transactions\n",
    "FROM `bigquery-midterm-exam.datamodel_midterm_dataset.normalized_international_top_rising_terms` AS trends\n",
    "JOIN `bigquery-midterm-exam.datamodel_midterm_dataset.customer_logs` AS logs\n",
    "ON trends.country_name = logs.country\n",
    "JOIN `bigquery-midterm-exam.datamodel_midterm_dataset.ad_performance_logs` AS ads\n",
    "ON trends.country_name = ads.country\n",
    "JOIN `bigquery-public-data.google_analytics_sample.ga_sessions_20170801` AS analytics\n",
    "ON trends.country_name = analytics.geoNetwork.country\n",
    "JOIN `bigquery-midterm-exam.datamodel_midterm_dataset.combined_geotargets_criteria` AS geo\n",
    "ON  trends.country_code = geo.country_code\n",
    "WHERE RAND() < 0.001\n",
    "\"\"\"\n",
    "job = bigquery_client.query(integrated_query)\n",
    "job.result()\n",
    "print(\"integrated_query completed.\")\n"
   ]
  },
  {
   "cell_type": "code",
   "execution_count": null,
   "metadata": {},
   "outputs": [],
   "source": []
  }
 ],
 "metadata": {
  "kernelspec": {
   "display_name": "venv",
   "language": "python",
   "name": "python3"
  },
  "language_info": {
   "codemirror_mode": {
    "name": "ipython",
    "version": 3
   },
   "file_extension": ".py",
   "mimetype": "text/x-python",
   "name": "python",
   "nbconvert_exporter": "python",
   "pygments_lexer": "ipython3",
   "version": "3.11.4"
  }
 },
 "nbformat": 4,
 "nbformat_minor": 2
}
