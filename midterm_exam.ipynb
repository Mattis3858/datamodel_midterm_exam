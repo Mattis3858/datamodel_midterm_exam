{
 "cells": [
  {
   "cell_type": "code",
   "execution_count": 1,
   "metadata": {},
   "outputs": [
    {
     "name": "stdout",
     "output_type": "stream",
     "text": [
      "Requirement already satisfied: pip in c:\\users\\mattis\\desktop\\vscode\\datamodel_midterm_exam\\venv\\lib\\site-packages (22.3)\n",
      "Collecting pip\n",
      "  Using cached pip-24.3.1-py3-none-any.whl (1.8 MB)\n",
      "Installing collected packages: pip\n",
      "  Attempting uninstall: pip\n",
      "    Found existing installation: pip 22.3\n",
      "    Uninstalling pip-22.3:\n",
      "      Successfully uninstalled pip-22.3\n",
      "Successfully installed pip-24.3.1\n",
      "Note: you may need to restart the kernel to use updated packages.\n",
      "Collecting google\n",
      "  Downloading google-3.0.0-py2.py3-none-any.whl.metadata (627 bytes)\n",
      "Collecting beautifulsoup4 (from google)\n",
      "  Using cached beautifulsoup4-4.12.3-py3-none-any.whl.metadata (3.8 kB)\n",
      "Collecting soupsieve>1.2 (from beautifulsoup4->google)\n",
      "  Using cached soupsieve-2.6-py3-none-any.whl.metadata (4.6 kB)\n",
      "Downloading google-3.0.0-py2.py3-none-any.whl (45 kB)\n",
      "Using cached beautifulsoup4-4.12.3-py3-none-any.whl (147 kB)\n",
      "Using cached soupsieve-2.6-py3-none-any.whl (36 kB)\n",
      "Installing collected packages: soupsieve, beautifulsoup4, google\n",
      "Successfully installed beautifulsoup4-4.12.3 google-3.0.0 soupsieve-2.6\n",
      "Note: you may need to restart the kernel to use updated packages.\n",
      "Collecting google-cloud-bigquery\n",
      "  Downloading google_cloud_bigquery-3.27.0-py2.py3-none-any.whl.metadata (8.6 kB)\n",
      "Collecting google-api-core<3.0.0dev,>=2.11.1 (from google-api-core[grpc]<3.0.0dev,>=2.11.1->google-cloud-bigquery)\n",
      "  Downloading google_api_core-2.23.0-py3-none-any.whl.metadata (3.0 kB)\n",
      "Collecting google-auth<3.0.0dev,>=2.14.1 (from google-cloud-bigquery)\n",
      "  Using cached google_auth-2.36.0-py2.py3-none-any.whl.metadata (4.7 kB)\n",
      "Collecting google-cloud-core<3.0.0dev,>=2.4.1 (from google-cloud-bigquery)\n",
      "  Downloading google_cloud_core-2.4.1-py2.py3-none-any.whl.metadata (2.7 kB)\n",
      "Collecting google-resumable-media<3.0dev,>=2.0.0 (from google-cloud-bigquery)\n",
      "  Using cached google_resumable_media-2.7.2-py2.py3-none-any.whl.metadata (2.2 kB)\n",
      "Requirement already satisfied: packaging>=20.0.0 in c:\\users\\mattis\\desktop\\vscode\\datamodel_midterm_exam\\venv\\lib\\site-packages (from google-cloud-bigquery) (24.2)\n",
      "Requirement already satisfied: python-dateutil<3.0dev,>=2.7.3 in c:\\users\\mattis\\desktop\\vscode\\datamodel_midterm_exam\\venv\\lib\\site-packages (from google-cloud-bigquery) (2.9.0.post0)\n",
      "Collecting requests<3.0.0dev,>=2.21.0 (from google-cloud-bigquery)\n",
      "  Using cached requests-2.32.3-py3-none-any.whl.metadata (4.6 kB)\n",
      "Collecting googleapis-common-protos<2.0.dev0,>=1.56.2 (from google-api-core<3.0.0dev,>=2.11.1->google-api-core[grpc]<3.0.0dev,>=2.11.1->google-cloud-bigquery)\n",
      "  Using cached googleapis_common_protos-1.66.0-py2.py3-none-any.whl.metadata (1.5 kB)\n",
      "Collecting protobuf!=3.20.0,!=3.20.1,!=4.21.0,!=4.21.1,!=4.21.2,!=4.21.3,!=4.21.4,!=4.21.5,<6.0.0.dev0,>=3.19.5 (from google-api-core<3.0.0dev,>=2.11.1->google-api-core[grpc]<3.0.0dev,>=2.11.1->google-cloud-bigquery)\n",
      "  Downloading protobuf-5.29.1-cp310-abi3-win_amd64.whl.metadata (592 bytes)\n",
      "Collecting proto-plus<2.0.0dev,>=1.22.3 (from google-api-core<3.0.0dev,>=2.11.1->google-api-core[grpc]<3.0.0dev,>=2.11.1->google-cloud-bigquery)\n",
      "  Downloading proto_plus-1.25.0-py3-none-any.whl.metadata (2.2 kB)\n",
      "Collecting grpcio<2.0dev,>=1.33.2 (from google-api-core[grpc]<3.0.0dev,>=2.11.1->google-cloud-bigquery)\n",
      "  Downloading grpcio-1.68.1-cp311-cp311-win_amd64.whl.metadata (4.0 kB)\n",
      "Collecting grpcio-status<2.0.dev0,>=1.33.2 (from google-api-core[grpc]<3.0.0dev,>=2.11.1->google-cloud-bigquery)\n",
      "  Downloading grpcio_status-1.68.1-py3-none-any.whl.metadata (1.1 kB)\n",
      "Collecting cachetools<6.0,>=2.0.0 (from google-auth<3.0.0dev,>=2.14.1->google-cloud-bigquery)\n",
      "  Using cached cachetools-5.5.0-py3-none-any.whl.metadata (5.3 kB)\n",
      "Collecting pyasn1-modules>=0.2.1 (from google-auth<3.0.0dev,>=2.14.1->google-cloud-bigquery)\n",
      "  Using cached pyasn1_modules-0.4.1-py3-none-any.whl.metadata (3.5 kB)\n",
      "Collecting rsa<5,>=3.1.4 (from google-auth<3.0.0dev,>=2.14.1->google-cloud-bigquery)\n",
      "  Using cached rsa-4.9-py3-none-any.whl.metadata (4.2 kB)\n",
      "Collecting google-crc32c<2.0dev,>=1.0 (from google-resumable-media<3.0dev,>=2.0.0->google-cloud-bigquery)\n",
      "  Using cached google_crc32c-1.6.0-cp311-cp311-win_amd64.whl.metadata (2.4 kB)\n",
      "Requirement already satisfied: six>=1.5 in c:\\users\\mattis\\desktop\\vscode\\datamodel_midterm_exam\\venv\\lib\\site-packages (from python-dateutil<3.0dev,>=2.7.3->google-cloud-bigquery) (1.17.0)\n",
      "Collecting charset-normalizer<4,>=2 (from requests<3.0.0dev,>=2.21.0->google-cloud-bigquery)\n",
      "  Using cached charset_normalizer-3.4.0-cp311-cp311-win_amd64.whl.metadata (34 kB)\n",
      "Collecting idna<4,>=2.5 (from requests<3.0.0dev,>=2.21.0->google-cloud-bigquery)\n",
      "  Using cached idna-3.10-py3-none-any.whl.metadata (10 kB)\n",
      "Collecting urllib3<3,>=1.21.1 (from requests<3.0.0dev,>=2.21.0->google-cloud-bigquery)\n",
      "  Using cached urllib3-2.2.3-py3-none-any.whl.metadata (6.5 kB)\n",
      "Collecting certifi>=2017.4.17 (from requests<3.0.0dev,>=2.21.0->google-cloud-bigquery)\n",
      "  Using cached certifi-2024.8.30-py3-none-any.whl.metadata (2.2 kB)\n",
      "Collecting pyasn1<0.7.0,>=0.4.6 (from pyasn1-modules>=0.2.1->google-auth<3.0.0dev,>=2.14.1->google-cloud-bigquery)\n",
      "  Using cached pyasn1-0.6.1-py3-none-any.whl.metadata (8.4 kB)\n",
      "Downloading google_cloud_bigquery-3.27.0-py2.py3-none-any.whl (240 kB)\n",
      "Downloading google_api_core-2.23.0-py3-none-any.whl (156 kB)\n",
      "Using cached google_auth-2.36.0-py2.py3-none-any.whl (209 kB)\n",
      "Downloading google_cloud_core-2.4.1-py2.py3-none-any.whl (29 kB)\n",
      "Using cached google_resumable_media-2.7.2-py2.py3-none-any.whl (81 kB)\n",
      "Using cached requests-2.32.3-py3-none-any.whl (64 kB)\n",
      "Using cached cachetools-5.5.0-py3-none-any.whl (9.5 kB)\n",
      "Using cached certifi-2024.8.30-py3-none-any.whl (167 kB)\n",
      "Using cached charset_normalizer-3.4.0-cp311-cp311-win_amd64.whl (101 kB)\n",
      "Using cached google_crc32c-1.6.0-cp311-cp311-win_amd64.whl (33 kB)\n",
      "Using cached googleapis_common_protos-1.66.0-py2.py3-none-any.whl (221 kB)\n",
      "Downloading grpcio-1.68.1-cp311-cp311-win_amd64.whl (4.4 MB)\n",
      "   ---------------------------------------- 0.0/4.4 MB ? eta -:--:--\n",
      "   ------------------- -------------------- 2.1/4.4 MB 11.8 MB/s eta 0:00:01\n",
      "   ---------------------------------------- 4.4/4.4 MB 11.5 MB/s eta 0:00:00\n",
      "Downloading grpcio_status-1.68.1-py3-none-any.whl (14 kB)\n",
      "Using cached idna-3.10-py3-none-any.whl (70 kB)\n",
      "Downloading proto_plus-1.25.0-py3-none-any.whl (50 kB)\n",
      "Downloading protobuf-5.29.1-cp310-abi3-win_amd64.whl (434 kB)\n",
      "Using cached pyasn1_modules-0.4.1-py3-none-any.whl (181 kB)\n",
      "Using cached rsa-4.9-py3-none-any.whl (34 kB)\n",
      "Using cached urllib3-2.2.3-py3-none-any.whl (126 kB)\n",
      "Using cached pyasn1-0.6.1-py3-none-any.whl (83 kB)\n",
      "Installing collected packages: urllib3, pyasn1, protobuf, idna, grpcio, google-crc32c, charset-normalizer, certifi, cachetools, rsa, requests, pyasn1-modules, proto-plus, googleapis-common-protos, google-resumable-media, grpcio-status, google-auth, google-api-core, google-cloud-core, google-cloud-bigquery\n",
      "Successfully installed cachetools-5.5.0 certifi-2024.8.30 charset-normalizer-3.4.0 google-api-core-2.23.0 google-auth-2.36.0 google-cloud-bigquery-3.27.0 google-cloud-core-2.4.1 google-crc32c-1.6.0 google-resumable-media-2.7.2 googleapis-common-protos-1.66.0 grpcio-1.68.1 grpcio-status-1.68.1 idna-3.10 proto-plus-1.25.0 protobuf-5.29.1 pyasn1-0.6.1 pyasn1-modules-0.4.1 requests-2.32.3 rsa-4.9 urllib3-2.2.3\n",
      "Note: you may need to restart the kernel to use updated packages.\n",
      "Collecting google-cloud-storageNote: you may need to restart the kernel to use updated packages.\n",
      "\n",
      "  Downloading google_cloud_storage-2.19.0-py2.py3-none-any.whl.metadata (9.1 kB)\n",
      "Requirement already satisfied: google-auth<3.0dev,>=2.26.1 in c:\\users\\mattis\\desktop\\vscode\\datamodel_midterm_exam\\venv\\lib\\site-packages (from google-cloud-storage) (2.36.0)\n",
      "Requirement already satisfied: google-api-core<3.0.0dev,>=2.15.0 in c:\\users\\mattis\\desktop\\vscode\\datamodel_midterm_exam\\venv\\lib\\site-packages (from google-cloud-storage) (2.23.0)\n",
      "Requirement already satisfied: google-cloud-core<3.0dev,>=2.3.0 in c:\\users\\mattis\\desktop\\vscode\\datamodel_midterm_exam\\venv\\lib\\site-packages (from google-cloud-storage) (2.4.1)\n",
      "Requirement already satisfied: google-resumable-media>=2.7.2 in c:\\users\\mattis\\desktop\\vscode\\datamodel_midterm_exam\\venv\\lib\\site-packages (from google-cloud-storage) (2.7.2)\n",
      "Requirement already satisfied: requests<3.0.0dev,>=2.18.0 in c:\\users\\mattis\\desktop\\vscode\\datamodel_midterm_exam\\venv\\lib\\site-packages (from google-cloud-storage) (2.32.3)\n",
      "Requirement already satisfied: google-crc32c<2.0dev,>=1.0 in c:\\users\\mattis\\desktop\\vscode\\datamodel_midterm_exam\\venv\\lib\\site-packages (from google-cloud-storage) (1.6.0)\n",
      "Requirement already satisfied: googleapis-common-protos<2.0.dev0,>=1.56.2 in c:\\users\\mattis\\desktop\\vscode\\datamodel_midterm_exam\\venv\\lib\\site-packages (from google-api-core<3.0.0dev,>=2.15.0->google-cloud-storage) (1.66.0)\n",
      "Requirement already satisfied: protobuf!=3.20.0,!=3.20.1,!=4.21.0,!=4.21.1,!=4.21.2,!=4.21.3,!=4.21.4,!=4.21.5,<6.0.0.dev0,>=3.19.5 in c:\\users\\mattis\\desktop\\vscode\\datamodel_midterm_exam\\venv\\lib\\site-packages (from google-api-core<3.0.0dev,>=2.15.0->google-cloud-storage) (5.29.1)\n",
      "Requirement already satisfied: proto-plus<2.0.0dev,>=1.22.3 in c:\\users\\mattis\\desktop\\vscode\\datamodel_midterm_exam\\venv\\lib\\site-packages (from google-api-core<3.0.0dev,>=2.15.0->google-cloud-storage) (1.25.0)\n",
      "Requirement already satisfied: cachetools<6.0,>=2.0.0 in c:\\users\\mattis\\desktop\\vscode\\datamodel_midterm_exam\\venv\\lib\\site-packages (from google-auth<3.0dev,>=2.26.1->google-cloud-storage) (5.5.0)\n",
      "Requirement already satisfied: pyasn1-modules>=0.2.1 in c:\\users\\mattis\\desktop\\vscode\\datamodel_midterm_exam\\venv\\lib\\site-packages (from google-auth<3.0dev,>=2.26.1->google-cloud-storage) (0.4.1)\n",
      "Requirement already satisfied: rsa<5,>=3.1.4 in c:\\users\\mattis\\desktop\\vscode\\datamodel_midterm_exam\\venv\\lib\\site-packages (from google-auth<3.0dev,>=2.26.1->google-cloud-storage) (4.9)\n",
      "Requirement already satisfied: charset-normalizer<4,>=2 in c:\\users\\mattis\\desktop\\vscode\\datamodel_midterm_exam\\venv\\lib\\site-packages (from requests<3.0.0dev,>=2.18.0->google-cloud-storage) (3.4.0)\n",
      "Requirement already satisfied: idna<4,>=2.5 in c:\\users\\mattis\\desktop\\vscode\\datamodel_midterm_exam\\venv\\lib\\site-packages (from requests<3.0.0dev,>=2.18.0->google-cloud-storage) (3.10)\n",
      "Requirement already satisfied: urllib3<3,>=1.21.1 in c:\\users\\mattis\\desktop\\vscode\\datamodel_midterm_exam\\venv\\lib\\site-packages (from requests<3.0.0dev,>=2.18.0->google-cloud-storage) (2.2.3)\n",
      "Requirement already satisfied: certifi>=2017.4.17 in c:\\users\\mattis\\desktop\\vscode\\datamodel_midterm_exam\\venv\\lib\\site-packages (from requests<3.0.0dev,>=2.18.0->google-cloud-storage) (2024.8.30)\n",
      "Requirement already satisfied: pyasn1<0.7.0,>=0.4.6 in c:\\users\\mattis\\desktop\\vscode\\datamodel_midterm_exam\\venv\\lib\\site-packages (from pyasn1-modules>=0.2.1->google-auth<3.0dev,>=2.26.1->google-cloud-storage) (0.6.1)\n",
      "Downloading google_cloud_storage-2.19.0-py2.py3-none-any.whl (131 kB)\n",
      "Installing collected packages: google-cloud-storage\n",
      "Successfully installed google-cloud-storage-2.19.0\n",
      "Collecting google-cloud-bigquery-storage\n",
      "  Downloading google_cloud_bigquery_storage-2.27.0-py2.py3-none-any.whl.metadata (5.6 kB)\n",
      "Requirement already satisfied: google-api-core!=2.0.*,!=2.1.*,!=2.10.*,!=2.2.*,!=2.3.*,!=2.4.*,!=2.5.*,!=2.6.*,!=2.7.*,!=2.8.*,!=2.9.*,<3.0.0dev,>=1.34.0 in c:\\users\\mattis\\desktop\\vscode\\datamodel_midterm_exam\\venv\\lib\\site-packages (from google-api-core[grpc]!=2.0.*,!=2.1.*,!=2.10.*,!=2.2.*,!=2.3.*,!=2.4.*,!=2.5.*,!=2.6.*,!=2.7.*,!=2.8.*,!=2.9.*,<3.0.0dev,>=1.34.0->google-cloud-bigquery-storage) (2.23.0)\n",
      "Requirement already satisfied: google-auth<3.0.0dev,>=2.14.1 in c:\\users\\mattis\\desktop\\vscode\\datamodel_midterm_exam\\venv\\lib\\site-packages (from google-cloud-bigquery-storage) (2.36.0)\n",
      "Requirement already satisfied: proto-plus<2.0.0dev,>=1.22.0 in c:\\users\\mattis\\desktop\\vscode\\datamodel_midterm_exam\\venv\\lib\\site-packages (from google-cloud-bigquery-storage) (1.25.0)\n",
      "Requirement already satisfied: protobuf!=3.20.0,!=3.20.1,!=4.21.0,!=4.21.1,!=4.21.2,!=4.21.3,!=4.21.4,!=4.21.5,<6.0.0dev,>=3.20.2 in c:\\users\\mattis\\desktop\\vscode\\datamodel_midterm_exam\\venv\\lib\\site-packages (from google-cloud-bigquery-storage) (5.29.1)\n",
      "Requirement already satisfied: googleapis-common-protos<2.0.dev0,>=1.56.2 in c:\\users\\mattis\\desktop\\vscode\\datamodel_midterm_exam\\venv\\lib\\site-packages (from google-api-core!=2.0.*,!=2.1.*,!=2.10.*,!=2.2.*,!=2.3.*,!=2.4.*,!=2.5.*,!=2.6.*,!=2.7.*,!=2.8.*,!=2.9.*,<3.0.0dev,>=1.34.0->google-api-core[grpc]!=2.0.*,!=2.1.*,!=2.10.*,!=2.2.*,!=2.3.*,!=2.4.*,!=2.5.*,!=2.6.*,!=2.7.*,!=2.8.*,!=2.9.*,<3.0.0dev,>=1.34.0->google-cloud-bigquery-storage) (1.66.0)\n",
      "Requirement already satisfied: requests<3.0.0.dev0,>=2.18.0 in c:\\users\\mattis\\desktop\\vscode\\datamodel_midterm_exam\\venv\\lib\\site-packages (from google-api-core!=2.0.*,!=2.1.*,!=2.10.*,!=2.2.*,!=2.3.*,!=2.4.*,!=2.5.*,!=2.6.*,!=2.7.*,!=2.8.*,!=2.9.*,<3.0.0dev,>=1.34.0->google-api-core[grpc]!=2.0.*,!=2.1.*,!=2.10.*,!=2.2.*,!=2.3.*,!=2.4.*,!=2.5.*,!=2.6.*,!=2.7.*,!=2.8.*,!=2.9.*,<3.0.0dev,>=1.34.0->google-cloud-bigquery-storage) (2.32.3)\n",
      "Requirement already satisfied: grpcio<2.0dev,>=1.33.2 in c:\\users\\mattis\\desktop\\vscode\\datamodel_midterm_exam\\venv\\lib\\site-packages (from google-api-core[grpc]!=2.0.*,!=2.1.*,!=2.10.*,!=2.2.*,!=2.3.*,!=2.4.*,!=2.5.*,!=2.6.*,!=2.7.*,!=2.8.*,!=2.9.*,<3.0.0dev,>=1.34.0->google-cloud-bigquery-storage) (1.68.1)\n",
      "Requirement already satisfied: grpcio-status<2.0.dev0,>=1.33.2 in c:\\users\\mattis\\desktop\\vscode\\datamodel_midterm_exam\\venv\\lib\\site-packages (from google-api-core[grpc]!=2.0.*,!=2.1.*,!=2.10.*,!=2.2.*,!=2.3.*,!=2.4.*,!=2.5.*,!=2.6.*,!=2.7.*,!=2.8.*,!=2.9.*,<3.0.0dev,>=1.34.0->google-cloud-bigquery-storage) (1.68.1)\n",
      "Requirement already satisfied: cachetools<6.0,>=2.0.0 in c:\\users\\mattis\\desktop\\vscode\\datamodel_midterm_exam\\venv\\lib\\site-packages (from google-auth<3.0.0dev,>=2.14.1->google-cloud-bigquery-storage) (5.5.0)\n",
      "Requirement already satisfied: pyasn1-modules>=0.2.1 in c:\\users\\mattis\\desktop\\vscode\\datamodel_midterm_exam\\venv\\lib\\site-packages (from google-auth<3.0.0dev,>=2.14.1->google-cloud-bigquery-storage) (0.4.1)\n",
      "Requirement already satisfied: rsa<5,>=3.1.4 in c:\\users\\mattis\\desktop\\vscode\\datamodel_midterm_exam\\venv\\lib\\site-packages (from google-auth<3.0.0dev,>=2.14.1->google-cloud-bigquery-storage) (4.9)\n",
      "Requirement already satisfied: pyasn1<0.7.0,>=0.4.6 in c:\\users\\mattis\\desktop\\vscode\\datamodel_midterm_exam\\venv\\lib\\site-packages (from pyasn1-modules>=0.2.1->google-auth<3.0.0dev,>=2.14.1->google-cloud-bigquery-storage) (0.6.1)\n",
      "Requirement already satisfied: charset-normalizer<4,>=2 in c:\\users\\mattis\\desktop\\vscode\\datamodel_midterm_exam\\venv\\lib\\site-packages (from requests<3.0.0.dev0,>=2.18.0->google-api-core!=2.0.*,!=2.1.*,!=2.10.*,!=2.2.*,!=2.3.*,!=2.4.*,!=2.5.*,!=2.6.*,!=2.7.*,!=2.8.*,!=2.9.*,<3.0.0dev,>=1.34.0->google-api-core[grpc]!=2.0.*,!=2.1.*,!=2.10.*,!=2.2.*,!=2.3.*,!=2.4.*,!=2.5.*,!=2.6.*,!=2.7.*,!=2.8.*,!=2.9.*,<3.0.0dev,>=1.34.0->google-cloud-bigquery-storage) (3.4.0)\n",
      "Requirement already satisfied: idna<4,>=2.5 in c:\\users\\mattis\\desktop\\vscode\\datamodel_midterm_exam\\venv\\lib\\site-packages (from requests<3.0.0.dev0,>=2.18.0->google-api-core!=2.0.*,!=2.1.*,!=2.10.*,!=2.2.*,!=2.3.*,!=2.4.*,!=2.5.*,!=2.6.*,!=2.7.*,!=2.8.*,!=2.9.*,<3.0.0dev,>=1.34.0->google-api-core[grpc]!=2.0.*,!=2.1.*,!=2.10.*,!=2.2.*,!=2.3.*,!=2.4.*,!=2.5.*,!=2.6.*,!=2.7.*,!=2.8.*,!=2.9.*,<3.0.0dev,>=1.34.0->google-cloud-bigquery-storage) (3.10)\n",
      "Requirement already satisfied: urllib3<3,>=1.21.1 in c:\\users\\mattis\\desktop\\vscode\\datamodel_midterm_exam\\venv\\lib\\site-packages (from requests<3.0.0.dev0,>=2.18.0->google-api-core!=2.0.*,!=2.1.*,!=2.10.*,!=2.2.*,!=2.3.*,!=2.4.*,!=2.5.*,!=2.6.*,!=2.7.*,!=2.8.*,!=2.9.*,<3.0.0dev,>=1.34.0->google-api-core[grpc]!=2.0.*,!=2.1.*,!=2.10.*,!=2.2.*,!=2.3.*,!=2.4.*,!=2.5.*,!=2.6.*,!=2.7.*,!=2.8.*,!=2.9.*,<3.0.0dev,>=1.34.0->google-cloud-bigquery-storage) (2.2.3)\n",
      "Requirement already satisfied: certifi>=2017.4.17 in c:\\users\\mattis\\desktop\\vscode\\datamodel_midterm_exam\\venv\\lib\\site-packages (from requests<3.0.0.dev0,>=2.18.0->google-api-core!=2.0.*,!=2.1.*,!=2.10.*,!=2.2.*,!=2.3.*,!=2.4.*,!=2.5.*,!=2.6.*,!=2.7.*,!=2.8.*,!=2.9.*,<3.0.0dev,>=1.34.0->google-api-core[grpc]!=2.0.*,!=2.1.*,!=2.10.*,!=2.2.*,!=2.3.*,!=2.4.*,!=2.5.*,!=2.6.*,!=2.7.*,!=2.8.*,!=2.9.*,<3.0.0dev,>=1.34.0->google-cloud-bigquery-storage) (2024.8.30)\n",
      "Downloading google_cloud_bigquery_storage-2.27.0-py2.py3-none-any.whl (240 kB)\n",
      "Installing collected packages: google-cloud-bigquery-storage\n",
      "Successfully installed google-cloud-bigquery-storage-2.27.0\n",
      "Note: you may need to restart the kernel to use updated packages.\n",
      "Collecting pandas\n",
      "  Using cached pandas-2.2.3-cp311-cp311-win_amd64.whl.metadata (19 kB)\n",
      "Collecting numpy>=1.23.2 (from pandas)\n",
      "  Downloading numpy-2.1.3-cp311-cp311-win_amd64.whl.metadata (60 kB)\n",
      "Requirement already satisfied: python-dateutil>=2.8.2 in c:\\users\\mattis\\desktop\\vscode\\datamodel_midterm_exam\\venv\\lib\\site-packages (from pandas) (2.9.0.post0)\n",
      "Collecting pytz>=2020.1 (from pandas)\n",
      "  Using cached pytz-2024.2-py2.py3-none-any.whl.metadata (22 kB)\n",
      "Collecting tzdata>=2022.7 (from pandas)\n",
      "  Using cached tzdata-2024.2-py2.py3-none-any.whl.metadata (1.4 kB)\n",
      "Requirement already satisfied: six>=1.5 in c:\\users\\mattis\\desktop\\vscode\\datamodel_midterm_exam\\venv\\lib\\site-packages (from python-dateutil>=2.8.2->pandas) (1.17.0)\n",
      "Using cached pandas-2.2.3-cp311-cp311-win_amd64.whl (11.6 MB)\n",
      "Downloading numpy-2.1.3-cp311-cp311-win_amd64.whl (12.9 MB)\n",
      "   ---------------------------------------- 0.0/12.9 MB ? eta -:--:--\n",
      "   ---- ----------------------------------- 1.3/12.9 MB 8.4 MB/s eta 0:00:02\n",
      "   ----------- ---------------------------- 3.7/12.9 MB 10.4 MB/s eta 0:00:01\n",
      "   ------------------ --------------------- 6.0/12.9 MB 11.2 MB/s eta 0:00:01\n",
      "   -------------------------- ------------- 8.7/12.9 MB 11.4 MB/s eta 0:00:01\n",
      "   ---------------------------------- ----- 11.0/12.9 MB 11.5 MB/s eta 0:00:01\n",
      "   ---------------------------------------- 12.9/12.9 MB 11.2 MB/s eta 0:00:00\n",
      "Using cached pytz-2024.2-py2.py3-none-any.whl (508 kB)\n",
      "Using cached tzdata-2024.2-py2.py3-none-any.whl (346 kB)\n",
      "Installing collected packages: pytz, tzdata, numpy, pandas\n",
      "Successfully installed numpy-2.1.3 pandas-2.2.3 pytz-2024.2 tzdata-2024.2\n",
      "Note: you may need to restart the kernel to use updated packages.\n",
      "Collecting db-dtypes\n",
      "  Downloading db_dtypes-1.3.1-py2.py3-none-any.whl.metadata (3.0 kB)\n",
      "Requirement already satisfied: packaging>=17.0 in c:\\users\\mattis\\desktop\\vscode\\datamodel_midterm_exam\\venv\\lib\\site-packages (from db-dtypes) (24.2)\n",
      "Requirement already satisfied: pandas>=0.24.2 in c:\\users\\mattis\\desktop\\vscode\\datamodel_midterm_exam\\venv\\lib\\site-packages (from db-dtypes) (2.2.3)\n",
      "Collecting pyarrow>=3.0.0 (from db-dtypes)\n",
      "  Downloading pyarrow-18.1.0-cp311-cp311-win_amd64.whl.metadata (3.4 kB)\n",
      "Requirement already satisfied: numpy>=1.16.6 in c:\\users\\mattis\\desktop\\vscode\\datamodel_midterm_exam\\venv\\lib\\site-packages (from db-dtypes) (2.1.3)\n",
      "Requirement already satisfied: python-dateutil>=2.8.2 in c:\\users\\mattis\\desktop\\vscode\\datamodel_midterm_exam\\venv\\lib\\site-packages (from pandas>=0.24.2->db-dtypes) (2.9.0.post0)\n",
      "Requirement already satisfied: pytz>=2020.1 in c:\\users\\mattis\\desktop\\vscode\\datamodel_midterm_exam\\venv\\lib\\site-packages (from pandas>=0.24.2->db-dtypes) (2024.2)\n",
      "Requirement already satisfied: tzdata>=2022.7 in c:\\users\\mattis\\desktop\\vscode\\datamodel_midterm_exam\\venv\\lib\\site-packages (from pandas>=0.24.2->db-dtypes) (2024.2)\n",
      "Requirement already satisfied: six>=1.5 in c:\\users\\mattis\\desktop\\vscode\\datamodel_midterm_exam\\venv\\lib\\site-packages (from python-dateutil>=2.8.2->pandas>=0.24.2->db-dtypes) (1.17.0)\n",
      "Downloading db_dtypes-1.3.1-py2.py3-none-any.whl (18 kB)\n",
      "Downloading pyarrow-18.1.0-cp311-cp311-win_amd64.whl (25.1 MB)\n",
      "   ---------------------------------------- 0.0/25.1 MB ? eta -:--:--\n",
      "    --------------------------------------- 0.5/25.1 MB 5.6 MB/s eta 0:00:05\n",
      "   ---- ----------------------------------- 2.9/25.1 MB 9.9 MB/s eta 0:00:03\n",
      "   -------- ------------------------------- 5.5/25.1 MB 10.8 MB/s eta 0:00:02\n",
      "   ------------ --------------------------- 7.9/25.1 MB 11.0 MB/s eta 0:00:02\n",
      "   ---------------- ----------------------- 10.2/25.1 MB 11.2 MB/s eta 0:00:02\n",
      "   -------------------- ------------------- 12.6/25.1 MB 11.4 MB/s eta 0:00:02\n",
      "   ----------------------- ---------------- 14.9/25.1 MB 11.5 MB/s eta 0:00:01\n",
      "   --------------------------- ------------ 17.3/25.1 MB 11.5 MB/s eta 0:00:01\n",
      "   ------------------------------- -------- 19.7/25.1 MB 11.5 MB/s eta 0:00:01\n",
      "   ----------------------------------- ---- 22.3/25.1 MB 11.6 MB/s eta 0:00:01\n",
      "   ---------------------------------------  24.6/25.1 MB 11.6 MB/s eta 0:00:01\n",
      "   ---------------------------------------- 25.1/25.1 MB 11.4 MB/s eta 0:00:00\n",
      "Installing collected packages: pyarrow, db-dtypes\n",
      "Successfully installed db-dtypes-1.3.1 pyarrow-18.1.0\n",
      "Note: you may need to restart the kernel to use updated packages.\n"
     ]
    }
   ],
   "source": [
    "%pip install --upgrade pip\n",
    "%pip install google\n",
    "%pip install --upgrade google-cloud-bigquery\n",
    "%pip install --upgrade google-cloud-storage\n",
    "%pip install --upgrade google-cloud-bigquery-storage\n",
    "%pip install pandas\n",
    "%pip install db-dtypes"
   ]
  },
  {
   "cell_type": "code",
   "execution_count": 3,
   "metadata": {},
   "outputs": [],
   "source": [
    "from google.cloud import bigquery\n",
    "from google.cloud import storage\n",
    "from google.oauth2 import service_account\n",
    "import pandas as pd"
   ]
  },
  {
   "cell_type": "markdown",
   "metadata": {},
   "source": [
    "# Clients\n"
   ]
  },
  {
   "cell_type": "code",
   "execution_count": 4,
   "metadata": {},
   "outputs": [],
   "source": [
    "project_id = 'bigquery-midterm-exam'\n",
    "dataset_id = 'datamodel_midterm_dataset'"
   ]
  },
  {
   "cell_type": "code",
   "execution_count": 5,
   "metadata": {},
   "outputs": [],
   "source": [
    "# Initialize BigQuery client\n",
    "credentials = service_account.Credentials.from_service_account_file(\n",
    "    'bigquery-midterm-exam-5265cdf05f9b.json')\n",
    "\n",
    "bigquery_client = bigquery.Client(project=project_id, credentials=credentials)\n",
    "storage_client = storage.Client(project=project_id, credentials=credentials)"
   ]
  },
  {
   "cell_type": "code",
   "execution_count": 43,
   "metadata": {},
   "outputs": [],
   "source": [
    "bucket_name = \"datamodel_midterm\""
   ]
  },
  {
   "cell_type": "code",
   "execution_count": 6,
   "metadata": {},
   "outputs": [],
   "source": [
    "customer_logs_path = 'customer_logs.csv'\n",
    "ad_performance_path = 'ad_performance.csv'"
   ]
  },
  {
   "cell_type": "code",
   "execution_count": 46,
   "metadata": {},
   "outputs": [
    {
     "name": "stdout",
     "output_type": "stream",
     "text": [
      "上傳完成\n",
      "上傳完成\n"
     ]
    }
   ],
   "source": [
    "# 上傳 customer_logs.csv 至 Google Cloud Storage\n",
    "csv_file_path = 'customer_logs.csv'\n",
    "bucket = storage_client.get_bucket(bucket_name)\n",
    "blob = bucket.blob('customer_logs.csv')\n",
    "blob.upload_from_filename(csv_file_path)\n",
    "\n",
    "# 將 CSV 資料作為外部表格載入 BigQuery\n",
    "table_id = 'customer_logs'\n",
    "job_config = bigquery.LoadJobConfig(\n",
    "    source_format=bigquery.SourceFormat.CSV,\n",
    "    skip_leading_rows=1,\n",
    "    autodetect=True\n",
    ")\n",
    "uri = f'gs://{bucket_name}/customer_logs.csv'\n",
    "\n",
    "load_job = bigquery_client.load_table_from_uri(\n",
    "    uri, f\"{dataset_id}.{table_id}\", job_config=job_config\n",
    ")\n",
    "load_job.result()  # 等待作業完成\n",
    "print(\"上傳完成\")\n",
    "\n",
    "# 上傳 customer_logs.csv 至 Google Cloud Storage\n",
    "csv_file_path = 'ad_performance.csv'\n",
    "bucket = storage_client.get_bucket(bucket_name)\n",
    "blob = bucket.blob('ad_performance_logs.csv')\n",
    "blob.upload_from_filename(csv_file_path)\n",
    "\n",
    "# 將 CSV 資料作為外部表格載入 BigQuery\n",
    "table_id = 'ad_performance_logs'\n",
    "job_config = bigquery.LoadJobConfig(\n",
    "    source_format=bigquery.SourceFormat.CSV,\n",
    "    skip_leading_rows=1,\n",
    "    autodetect=True\n",
    ")\n",
    "uri = f'gs://{bucket_name}/ad_performance_logs.csv'\n",
    "\n",
    "load_job = bigquery_client.load_table_from_uri(\n",
    "    uri, f\"{dataset_id}.{table_id}\", job_config=job_config\n",
    ")\n",
    "load_job.result()  # 等待作業完成\n",
    "print(\"上傳完成\")"
   ]
  },
  {
   "cell_type": "markdown",
   "metadata": {},
   "source": [
    "# Task 1\n"
   ]
  },
  {
   "cell_type": "markdown",
   "metadata": {},
   "source": [
    "## 1.1 資料擷取與上傳\n"
   ]
  },
  {
   "cell_type": "code",
   "execution_count": 5,
   "metadata": {},
   "outputs": [],
   "source": [
    "dataset_id = 'datamodel_midterm_dataset'\n",
    "bucket_name = 'datamodel_midterm'"
   ]
  },
  {
   "cell_type": "code",
   "execution_count": 14,
   "metadata": {},
   "outputs": [],
   "source": [
    "bucket = storage_client.bucket(bucket_name)"
   ]
  },
  {
   "cell_type": "code",
   "execution_count": 16,
   "metadata": {},
   "outputs": [],
   "source": [
    "# Upload customer_logs.csv\n",
    "customer_logs_blob = bucket.blob('customer_logs.csv')\n",
    "customer_logs_blob.upload_from_filename('customer_logs.csv')\n",
    "\n",
    "# Upload ad_performance_logs.csv\n",
    "ad_performance_logs_blob = bucket.blob('ad_performance_logs.csv')\n",
    "ad_performance_logs_blob.upload_from_filename('ad_performance.csv')"
   ]
  },
  {
   "cell_type": "markdown",
   "metadata": {},
   "source": [
    "## 1.2 Transform Data\n"
   ]
  },
  {
   "cell_type": "code",
   "execution_count": null,
   "metadata": {},
   "outputs": [
    {
     "name": "stdout",
     "output_type": "stream",
     "text": [
      "Score normalization completed.\n"
     ]
    }
   ],
   "source": [
    "# Normalize 'score' in Google Trends\n",
    "normalize_query = f\"\"\"\n",
    "CREATE OR REPLACE TABLE `{project_id}.{dataset_id}.normalized_international_top_rising_terms` AS\n",
    "SELECT\n",
    "  country_code,\n",
    "  country_name,\n",
    "  term,\n",
    "  (score - MIN(score) OVER()) / (MAX(score) OVER() - MIN(score) OVER()) AS score\n",
    "FROM\n",
    "  `bigquery-public-data.google_trends.international_top_rising_terms`\n",
    "WHERE score IS NOT null\n",
    "\"\"\"\n",
    "job = bigquery_client.query(normalize_query)\n",
    "job.result()\n",
    "print(\"Score normalization completed.\")\n"
   ]
  },
  {
   "cell_type": "markdown",
   "metadata": {},
   "source": [
    "## 1.3 Integrate Datasets\n"
   ]
  },
  {
   "cell_type": "code",
   "execution_count": 7,
   "metadata": {},
   "outputs": [
    {
     "name": "stdout",
     "output_type": "stream",
     "text": [
      "Score normalization completed.\n"
     ]
    }
   ],
   "source": [
    "# Normalize 'score' in Google Trends\n",
    "integrated_query = f\"\"\"\n",
    "CREATE OR REPLACE TABLE `{project_id}.{dataset_id}.combined_geotargets_criteria` AS\n",
    "SELECT\n",
    "    g.criteria_id,\n",
    "    g.en_name AS geographic_target_name,\n",
    "    g.country_code,\n",
    "    m.target_city\n",
    "FROM\n",
    "    `bigquery-public-data.google_ads.geotargets` AS g\n",
    "JOIN\n",
    "    `bigquery-public-data.google_ads_geo_mapping_us.ads_geo_criteria_mapping` AS m\n",
    "ON\n",
    "    CAST(g.criteria_id AS INT64) = m.ads_criteria_id;\n",
    "\"\"\"\n",
    "job = bigquery_client.query(integrated_query)\n",
    "job.result()\n",
    "print(\"Score normalization completed.\")\n"
   ]
  },
  {
   "cell_type": "code",
   "execution_count": null,
   "metadata": {},
   "outputs": [],
   "source": [
    "# Normalize 'score' in Google Trends\n",
    "integrated_query = f\"\"\"\n",
    "CREATE OR REPLACE TABLE `{project_id}.{dataset_id}.integrated_data` AS\n",
    "SELECT trends.country_code, trends.country_name, trends.term, trends.score,\n",
    "       ads.ad_id, ads.impressions, ads.clicks, ads.conversions,\n",
    "       logs.user_action, analytics.totals.pageviews, analytics.totals.transactions\n",
    "FROM `bigquery-midterm-exam.datamodel_midterm_dataset.normalized_international_top_rising_terms` AS trends\n",
    "LEFT JOIN `bigquery-midterm-exam.datamodel_midterm_dataset.customer_logs` AS logs\n",
    "ON trends.country_name = logs.country\n",
    "LEFT JOIN `bigquery-midterm-exam.datamodel_midterm_dataset.ad_performance_logs` AS ads\n",
    "ON trends.country_name = ads.country\n",
    "LEFT JOIN `bigquery-public-data.google_analytics_sample.ga_sessions_20170801` AS analytics\n",
    "ON trends.country_name = analytics.geoNetwork.country\n",
    "LEFT JOIN `bigquery-midterm-exam.datamodel_midterm_dataset.combined_geotargets_criteria` AS geo\n",
    "ON  trends.country_code = geo.country_code\n",
    "\"\"\"\n",
    "job = bigquery_client.query(integrated_query)\n",
    "job.result()\n",
    "print(\"integrated_query completed.\")\n"
   ]
  },
  {
   "cell_type": "markdown",
   "metadata": {},
   "source": [
    "# Task 2"
   ]
  },
  {
   "cell_type": "code",
   "execution_count": null,
   "metadata": {},
   "outputs": [],
   "source": []
  }
 ],
 "metadata": {
  "kernelspec": {
   "display_name": "venv",
   "language": "python",
   "name": "python3"
  },
  "language_info": {
   "codemirror_mode": {
    "name": "ipython",
    "version": 3
   },
   "file_extension": ".py",
   "mimetype": "text/x-python",
   "name": "python",
   "nbconvert_exporter": "python",
   "pygments_lexer": "ipython3",
   "version": "3.11.0"
  }
 },
 "nbformat": 4,
 "nbformat_minor": 2
}
